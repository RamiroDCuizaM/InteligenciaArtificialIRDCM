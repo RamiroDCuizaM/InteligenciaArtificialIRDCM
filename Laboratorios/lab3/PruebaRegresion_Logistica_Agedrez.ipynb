{
  "cells": [
    {
      "cell_type": "markdown",
      "metadata": {
        "id": "byvLqqceyXSe"
      },
      "source": [
        "# **DATASET DE AJEDREZ**\n",
        "\n",
        "\n",
        "Tu dataset corresponde a partidas de ajedrez en línea. Contiene información sobre las partidas, los jugadores, el resultado, y las aperturas utilizadas.\n",
        "\n",
        "Donde la:\n",
        "\n",
        "Y = Winner\n",
        "\n",
        "X1 = white_rating (nivel del jugador con blancas)\n",
        "\n",
        "X2 = black_rating (nivel del jugador con negras)\n",
        "\n",
        "X3 = turns (número de jugadas totales)\n",
        "\n",
        "X4 = rated (clasificatoria) (1 si lo es, 0 si no)\n",
        "\n",
        "X5 = opening_ply (jugadas en la apertura)"
      ]
    },
    {
      "cell_type": "markdown",
      "metadata": {
        "id": "GvNcSGWySk8y"
      },
      "source": [
        "# **IMPORTACION DE LIBRERIAS**"
      ]
    },
    {
      "cell_type": "code",
      "execution_count": 1,
      "metadata": {
        "id": "6PSq0fx3Sd23"
      },
      "outputs": [],
      "source": [
        "# utilizado para manejos de directorios y rutas\n",
        "import os\n",
        "\n",
        "# Computacion vectorial y cientifica para python\n",
        "import numpy as np\n",
        "\n",
        "import pandas as pd\n",
        "\n",
        "# Librerias para graficación (trazado de gráficos)\n",
        "from matplotlib import pyplot\n",
        "from mpl_toolkits.mplot3d import Axes3D  # Necesario para graficar superficies 3D\n",
        "\n",
        "# llama a matplotlib a embeber graficas dentro de los cuadernillos\n",
        "%matplotlib inline"
      ]
    },
    {
      "cell_type": "markdown",
      "metadata": {
        "id": "b_Lpf6gSTNZp"
      },
      "source": [
        "# **Montar el Drive en el Cuadernillo**"
      ]
    },
    {
      "cell_type": "code",
      "execution_count": 2,
      "metadata": {
        "colab": {
          "base_uri": "https://localhost:8080/"
        },
        "id": "BN_TyDJpi0I3",
        "outputId": "df4acc42-1d49-431b-e691-10171188edad"
      },
      "outputs": [
        {
          "name": "stdout",
          "output_type": "stream",
          "text": [
            "Mounted at /content/drive\n"
          ]
        }
      ],
      "source": [
        "from google.colab import drive\n",
        "drive.mount('/content/drive')"
      ]
    },
    {
      "cell_type": "markdown",
      "metadata": {
        "id": "Dh9jW3kzUNmR"
      },
      "source": [
        "# **Leer el dataset**"
      ]
    },
    {
      "cell_type": "code",
      "execution_count": 7,
      "metadata": {
        "colab": {
          "base_uri": "https://localhost:8080/"
        },
        "id": "rEpvKQOhSd25",
        "outputId": "85d56240-1157-43bb-dc39-1c468e95a3db"
      },
      "outputs": [
        {
          "name": "stderr",
          "output_type": "stream",
          "text": [
            "/tmp/ipython-input-1248990592.py:16: SettingWithCopyWarning: \n",
            "A value is trying to be set on a copy of a slice from a DataFrame.\n",
            "Try using .loc[row_indexer,col_indexer] = value instead\n",
            "\n",
            "See the caveats in the documentation: https://pandas.pydata.org/pandas-docs/stable/user_guide/indexing.html#returning-a-view-versus-a-copy\n",
            "  X[\"rated\"] = X[\"rated\"].astype(int)\n"
          ]
        }
      ],
      "source": [
        "# Leer datos separados por una coma\n",
        "# data = np.loadtxt('ex1data1.txt', delimiter=',')\n",
        "# data = np.loadtxt(os.path.join('data', 'ex1data1.txt'), delimiter=',')\n",
        "df = pd.read_csv('/content/drive/MyDrive/Datasets/games.csv')\n",
        "\n",
        "# 1. Filtrar solo partidas con ganador definido (quitamos draws y nulls)\n",
        "df = df[df[\"winner\"].isin([\"white\", \"black\"])]\n",
        "\n",
        "# 2. Crear variable Y binaria (ganador)\n",
        "df[\"Y\"] = df[\"winner\"].apply(lambda x: 1 if x == \"white\" else 0)\n",
        "\n",
        "# 3. Seleccionar X (predictoras)\n",
        "X = df[[\"white_rating\", \"black_rating\", \"turns\", \"rated\", \"opening_ply\"]]\n",
        "\n",
        "# Convertir 'rated' de booleano a int (0/1)\n",
        "X[\"rated\"] = X[\"rated\"].astype(int)\n",
        "\n",
        "# 4. Variable objetivo\n",
        "y = df[\"Y\"]"
      ]
    },
    {
      "cell_type": "markdown",
      "metadata": {
        "id": "kJru_pE9VmEb"
      },
      "source": [
        "# **Separar los Datos de Prueba (20%) y Entrenamiento (80%)**"
      ]
    },
    {
      "cell_type": "code",
      "execution_count": 8,
      "metadata": {
        "colab": {
          "base_uri": "https://localhost:8080/"
        },
        "id": "b59c93de",
        "outputId": "e1696750-a0ef-4899-fc5d-bd0993fef1e4"
      },
      "outputs": [
        {
          "name": "stdout",
          "output_type": "stream",
          "text": [
            "Dimensiones de X_train: (15286, 5)\n",
            "Dimensiones de X_test: (3822, 5)\n",
            "Dimensiones de y_train: (15286,)\n",
            "Dimensiones de y_test: (3822,)\n"
          ]
        }
      ],
      "source": [
        "from sklearn.model_selection import train_test_split\n",
        "\n",
        "# Dividir los datos en conjuntos de entrenamiento y prueba (80% entrenamiento, 20% prueba)\n",
        "X_train, X_test, y_train, y_test = train_test_split(X, y, test_size=0.2, random_state=42)\n",
        "\n",
        "# Imprimir las dimensiones de los conjuntos para verificar la división\n",
        "print(\"Dimensiones de X_train:\", X_train.shape)\n",
        "print(\"Dimensiones de X_test:\", X_test.shape)\n",
        "print(\"Dimensiones de y_train:\", y_train.shape)\n",
        "print(\"Dimensiones de y_test:\", y_test.shape)"
      ]
    },
    {
      "cell_type": "markdown",
      "metadata": {
        "id": "U079zbnWV5XU"
      },
      "source": []
    },
    {
      "cell_type": "code",
      "execution_count": null,
      "metadata": {
        "colab": {
          "base_uri": "https://localhost:8080/"
        },
        "id": "HIbZ-UjGpEnZ",
        "outputId": "d61bfb5f-42cd-4b72-99a4-a46280edd50f"
      },
      "outputs": [
        {
          "name": "stdout",
          "output_type": "stream",
          "text": [
            "       white_rating  black_rating  turns  rated  opening_ply\n",
            "0              1500          1191     13      0            5\n",
            "1              1322          1261     16      1            4\n",
            "2              1496          1500     61      1            3\n",
            "3              1439          1454     61      1            3\n",
            "4              1523          1469     95      1            5\n",
            "...             ...           ...    ...    ...          ...\n",
            "20053          1691          1220     24      1            2\n",
            "20054          1233          1196     82      1            2\n",
            "20055          1219          1286     35      1            3\n",
            "20056          1360          1227    109      1            4\n",
            "20057          1235          1339     78      1            3\n",
            "\n",
            "[19108 rows x 5 columns]\n"
          ]
        }
      ],
      "source": [
        "print(X)"
      ]
    },
    {
      "cell_type": "code",
      "execution_count": null,
      "metadata": {
        "colab": {
          "base_uri": "https://localhost:8080/"
        },
        "id": "APDij2F8oyfH",
        "outputId": "f2b6b241-211a-46ab-a836-2c96795bdd77"
      },
      "outputs": [
        {
          "name": "stdout",
          "output_type": "stream",
          "text": [
            "0        1\n",
            "1        0\n",
            "2        1\n",
            "3        1\n",
            "4        1\n",
            "        ..\n",
            "20053    1\n",
            "20054    0\n",
            "20055    1\n",
            "20056    1\n",
            "20057    0\n",
            "Name: Y, Length: 19108, dtype: int64\n"
          ]
        }
      ],
      "source": [
        "print(y_train)"
      ]
    },
    {
      "cell_type": "code",
      "execution_count": 11,
      "metadata": {
        "colab": {
          "base_uri": "https://localhost:8080/"
        },
        "id": "MhCZ3PqpyIBU",
        "outputId": "dffb5b43-8421-4934-f05e-c888d4d3c210"
      },
      "outputs": [
        {
          "name": "stdout",
          "output_type": "stream",
          "text": [
            "95540\n",
            "19108\n"
          ]
        }
      ],
      "source": [
        "print(X.size)\n",
        "print(y.size)"
      ]
    },
    {
      "cell_type": "markdown",
      "metadata": {
        "id": "bXhE6l-PV9q6"
      },
      "source": [
        "# **Funcion Sigmoide**"
      ]
    },
    {
      "cell_type": "code",
      "execution_count": 12,
      "metadata": {
        "id": "m4-7W5AGNOTF"
      },
      "outputs": [],
      "source": [
        "def sigmoid(z):\n",
        "    # Calcula la sigmoide de una entrada z\n",
        "    # convierte la intrada a un arreglo numpy\n",
        "    z = np.array(z)\n",
        "\n",
        "    g = np.zeros(z.shape)\n",
        "\n",
        "    g = 1 / (1 + np.exp(-z))\n",
        "\n",
        "    return g"
      ]
    },
    {
      "cell_type": "markdown",
      "metadata": {
        "id": "MCDRrDReWEh0"
      },
      "source": [
        "# **Funcion de Normalizacion**"
      ]
    },
    {
      "cell_type": "code",
      "execution_count": 13,
      "metadata": {
        "id": "kOKJbwTXNR_8"
      },
      "outputs": [],
      "source": [
        "def  featureNormalize(X):\n",
        "    X = np.array(X,dtype=np.float64)\n",
        "    X_norm = X.copy()\n",
        "    mu = np.zeros(X.shape[1])\n",
        "    sigma = np.zeros(X.shape[1])\n",
        "\n",
        "    mu = np.mean(X, axis = 0)\n",
        "    sigma = np.std(X, axis = 0)\n",
        "    X_norm = (X - mu) / sigma\n",
        "\n",
        "    return X_norm, mu, sigma"
      ]
    },
    {
      "cell_type": "markdown",
      "metadata": {
        "id": "bS-gk3qlWKYK"
      },
      "source": [
        "# **Aplica Normalizacion**"
      ]
    },
    {
      "cell_type": "code",
      "execution_count": 15,
      "metadata": {
        "colab": {
          "base_uri": "https://localhost:8080/"
        },
        "id": "e3PQ2V-yNXhz",
        "outputId": "fe7ef04b-7de0-4a6b-d56a-f318821f1033"
      },
      "outputs": [
        {
          "name": "stdout",
          "output_type": "stream",
          "text": [
            "Media calculada: [1.59433390e+03 1.58611115e+03 5.91499411e+01 8.10218501e-01\n",
            " 4.80498495e+00]\n",
            "Desviación estandar calculada: [289.48352315 289.16308833  32.0957027    0.39212814   2.77063417]\n",
            "Datos de entrenamiento normalizados: [[ 1.6293366   1.2134635   1.39738517  0.48397827 -0.29054177]\n",
            " [-0.67131247 -1.17619143  1.30391471  0.48397827 -0.65146997]\n",
            " [-0.74040104  2.25785683  0.58730787  0.48397827 -0.29054177]\n",
            " ...\n",
            " [ 0.27174638  0.45264717  0.40036696  0.48397827 -0.29054177]\n",
            " [-0.17387484 -0.21825451 -0.12929896  0.48397827  0.07038643]\n",
            " [ 0.33392609 -0.06609124  0.86771924  0.48397827  0.07038643]]\n",
            "Datos de prueba normalizados:        white_rating  black_rating     turns     rated  opening_ply\n",
            "15425      0.986813     -0.332377 -0.503181  0.483978     1.514099\n",
            "15370     -1.116934     -0.892614  0.556151  0.483978     1.153171\n",
            "4744       0.299382     -0.685119 -1.095160  0.483978    -0.290542\n",
            "18483      0.872817      1.555831 -0.347397  0.483978    -0.290542\n",
            "1521      -0.588406     -0.795783 -0.596651  0.483978     0.431315\n",
            "...             ...           ...       ...       ...          ...\n",
            "17295      0.361562     -0.937572 -0.004672  0.483978    -1.012398\n",
            "12491      0.230293      1.535081 -1.437885  0.483978     1.153171\n",
            "1136       1.066265      0.214027 -0.690122  0.483978     0.431315\n",
            "14229     -0.160057      0.393857 -0.534338 -2.066208     0.070386\n",
            "13062     -0.664404     -1.245357 -1.064004 -2.066208    -1.012398\n",
            "\n",
            "[3822 rows x 5 columns]\n"
          ]
        }
      ],
      "source": [
        "# llama featureNormalize con los datos cargados\n",
        "X_norm_train, mu, sigma = featureNormalize(X_train)\n",
        "X_norm_test = (X_test - mu) / sigma # Normalizar el conjunto de prueba usando mu y sigma del entrenamiento\n",
        "\n",
        "print('Media calculada:', mu)\n",
        "print('Desviación estandar calculada:', sigma)\n",
        "print('Datos de entrenamiento normalizados:', X_norm_train)\n",
        "print('Datos de prueba normalizados:', X_norm_test)"
      ]
    },
    {
      "cell_type": "markdown",
      "metadata": {
        "id": "SG0iXUymWQ2q"
      },
      "source": [
        "# **Agregar el BIAS**"
      ]
    },
    {
      "cell_type": "code",
      "execution_count": 16,
      "metadata": {
        "colab": {
          "base_uri": "https://localhost:8080/"
        },
        "id": "HGrNE-yBnvrW",
        "outputId": "be4c1720-d161-4065-db81-ce5dd9e94f1a"
      },
      "outputs": [
        {
          "name": "stdout",
          "output_type": "stream",
          "text": [
            "Datos de entrenamiento procesados (con intercepto): [[ 1.          1.6293366   1.2134635   1.39738517  0.48397827 -0.29054177]\n",
            " [ 1.         -0.67131247 -1.17619143  1.30391471  0.48397827 -0.65146997]\n",
            " [ 1.         -0.74040104  2.25785683  0.58730787  0.48397827 -0.29054177]\n",
            " [ 1.         -0.99257428 -0.68166082 -0.72127853  0.48397827 -0.65146997]\n",
            " [ 1.          0.86936243  1.35179374  0.52499423  0.48397827  0.07038643]]\n",
            "Datos de prueba procesados (con intercepto): [[ 1.          0.98681299 -0.33237696 -0.50318079  0.48397827  1.51409922]\n",
            " [ 1.         -1.11693369 -0.89261444  0.55615105  0.48397827  1.15317102]\n",
            " [ 1.          0.29938181 -0.68511907 -1.09516035  0.48397827 -0.29054177]\n",
            " [ 1.          0.87281686  1.55583085 -0.3473967   0.48397827 -0.29054177]\n",
            " [ 1.         -0.5884062  -0.79578327 -0.59665125  0.48397827  0.43131463]]\n"
          ]
        }
      ],
      "source": [
        "# Configurar la matriz adecuadamente, y agregar una columna de unos que corresponde al termino de intercepción.\n",
        "m_train, n_train = X_norm_train.shape\n",
        "m_test, n_test = X_norm_test.shape\n",
        "\n",
        "# Agrega el termino de intercepción a los conjuntos normalizados\n",
        "X_train_processed = np.concatenate([np.ones((m_train, 1)), X_norm_train], axis=1)\n",
        "X_test_processed = np.concatenate([np.ones((m_test, 1)), X_norm_test], axis=1)\n",
        "\n",
        "print('Datos de entrenamiento procesados (con intercepto):', X_train_processed[0:5,:])\n",
        "print('Datos de prueba procesados (con intercepto):', X_test_processed[0:5,:])"
      ]
    },
    {
      "cell_type": "markdown",
      "metadata": {
        "id": "g3iKRDnQWcnC"
      },
      "source": [
        "# **Funcion de Costo**"
      ]
    },
    {
      "cell_type": "code",
      "execution_count": 17,
      "metadata": {
        "id": "N55UlXLDNiPq"
      },
      "outputs": [],
      "source": [
        "def calcularCosto(theta, X, y):\n",
        "    # Inicializar algunos valores utiles\n",
        "    m = y.size  # numero de ejemplos de entrenamiento\n",
        "\n",
        "    J = 0\n",
        "    h = sigmoid(X.dot(theta.T))\n",
        "    J = (1 / m) * np.sum(-y.dot(np.log(h)) - (1 - y).dot(np.log(1 - h)))\n",
        "\n",
        "    return J"
      ]
    },
    {
      "cell_type": "markdown",
      "metadata": {
        "id": "58KAvD6rWhpy"
      },
      "source": [
        "# **Funcion Descenso por el Gradiente**"
      ]
    },
    {
      "cell_type": "code",
      "execution_count": 18,
      "metadata": {
        "id": "db1a8IdcNkIq"
      },
      "outputs": [],
      "source": [
        "def descensoGradiente(theta, X, y, alpha, num_iters):\n",
        "    # Inicializa algunos valores\n",
        "    m = y.shape[0] # numero de ejemplos de entrenamiento\n",
        "\n",
        "    # realiza una copia de theta, el cual será acutalizada por el descenso por el gradiente\n",
        "    theta = theta.copy()\n",
        "    J_history = []\n",
        "\n",
        "    for i in range(num_iters):\n",
        "        h = sigmoid(X.dot(theta.T))\n",
        "        theta = theta - (alpha / m) * (h - y).dot(X)\n",
        "\n",
        "        J_history.append(calcularCosto(theta, X, y))\n",
        "    return theta, J_history"
      ]
    },
    {
      "cell_type": "markdown",
      "metadata": {
        "id": "ZWEhoX-jWt9K"
      },
      "source": [
        "# **Entrenamiento del Modelo y Prueba**"
      ]
    },
    {
      "cell_type": "code",
      "execution_count": 26,
      "metadata": {
        "colab": {
          "base_uri": "https://localhost:8080/",
          "height": 507
        },
        "id": "TD9z-N0hNnNi",
        "outputId": "369f99a7-c0c6-4478-82a5-fd0a93eb9735"
      },
      "outputs": [
        {
          "name": "stdout",
          "output_type": "stream",
          "text": [
            "theta calculado por el descenso por el gradiente: [ 0.05092142  0.19877479 -0.21129463 -0.0502053  -0.00849238  0.02580435]\n",
            "Precisión del modelo en el conjunto de prueba: 64.23%\n"
          ]
        },
        {
          "data": {
            "image/png": "[encoded data removed]",
            "text/plain": [
              "<Figure size 640x480 with 1 Axes>"
            ]
          },
          "metadata": {},
          "output_type": "display_data"
        }
      ],
      "source": [
        "# Elegir algun valor para alpha (probar varias alternativas)\n",
        "alpha = 0.003\n",
        "num_iters = 1000\n",
        "\n",
        "# inicializa theta y ejecuta el descenso por el gradiente usando los datos de entrenamiento\n",
        "theta = np.zeros(X_train_processed.shape[1]) # Inicializa theta con el tamaño correcto\n",
        "theta, J_history = descensoGradiente(theta, X_train_processed, y_train, alpha, num_iters)\n",
        "\n",
        "# Grafica la convergencia del costo\n",
        "pyplot.plot(np.arange(len(J_history)), J_history, lw=2)\n",
        "pyplot.xlabel('Numero de iteraciones')\n",
        "pyplot.ylabel('Costo J')\n",
        "pyplot.title('Convergencia del Costo en el Conjunto de Entrenamiento')\n",
        "\n",
        "\n",
        "# Muestra los resultados del descenso por el gradiente\n",
        "print('theta calculado por el descenso por el gradiente: {:s}'.format(str(theta)))\n",
        "\n",
        "# --- Evaluación del modelo en el conjunto de prueba completo ---\n",
        "\n",
        "# Realiza predicciones en todo el conjunto de prueba\n",
        "# La función sigmoid devuelve probabilidades, las convertimos a 0 o 1\n",
        "predicciones = sigmoid(X_test_processed.dot(theta.T))\n",
        "# Convierte las probabilidades a etiquetas binarias (0 o 1) usando un umbral de 0.5\n",
        "y_pred = (predicciones >= 0.5).astype(int)\n",
        "\n",
        "# Calcula la precisión del modelo\n",
        "# Compara las predicciones (y_pred) con las etiquetas reales (y_test)\n",
        "precision = np.mean(y_pred == y_test) * 100\n",
        "\n",
        "print(f'Precisión del modelo en el conjunto de prueba: {precision:.2f}%')"
      ]
    }
  ],
  "metadata": {
    "colab": {
      "provenance": []
    },
    "kernelspec": {
      "display_name": "Python 3",
      "name": "python3"
    },
    "language_info": {
      "name": "python"
    }
  },
  "nbformat": 4,
  "nbformat_minor": 0
}
