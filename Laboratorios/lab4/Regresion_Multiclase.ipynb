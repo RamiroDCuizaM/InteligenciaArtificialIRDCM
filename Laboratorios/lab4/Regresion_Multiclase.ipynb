{
  "nbformat": 4,
  "nbformat_minor": 0,
  "metadata": {
    "colab": {
      "provenance": []
    },
    "kernelspec": {
      "name": "python3",
      "display_name": "Python 3"
    },
    "language_info": {
      "name": "python"
    }
  },
  "cells": [
    {
      "cell_type": "markdown",
      "source": [
        "# DATASET VIAJES DE TAXIS\n",
        "El dataset representa viajes de taxi en Filadelfia, mostrando la duración, distancia, velocidad, costos detallados (espera, distancia, banderazo, cargos extra), propinas y el precio total final.\n",
        "\n",
        " En este caso la columna **total_fare_new → tarifa total pagada (suma de los costos + propina + otros cargos)** ya no la vamos a utilizar como feature (X), porque de ahí justamente construimos la variable objetivo fare_class (y). i incluyéramos total_fare_new en las variables de entrada, el modelo estaría \"viendo\" directamente la respuesta que queremos predecir, lo cual haría que el entrenamiento sea tramposo. Entonces mis \"X\" e \"y\" son las siguientes.\n",
        "\n",
        "y = fare_class -> categoria del Viaje (Baja, Media, Alta).\n",
        "\n",
        "x1 = trip_duration_sec → duración del viaje en segundos.\n",
        "\n",
        "x2 = trip_duration_min → duración en minutos.\n",
        "\n",
        "x3 = trip_duration_hr → duración en horas.\n",
        "\n",
        "x4 = distance_traveled_Km → distancia recorrida (km).\n",
        "\n",
        "x5 = KPH → velocidad promedio (km/h).\n",
        "\n",
        "x6 = wait_time_cost → costo por espera.\n",
        "\n",
        "x7 = distance_cost → costo por distancia.\n",
        "\n",
        "x8 = fare_w_flag → tarifa base incluida.\n",
        "\n",
        "x9 = tip → propina del viaje.\n",
        "\n",
        "x10 = miscellaneous_fees → otros cargos.\n",
        "\n",
        "x11 = num_of_passengers → número de pasajeros.\n",
        "\n",
        "x12 = surge_applied → si se aplicó tarifa dinámica (binario)."
      ],
      "metadata": {
        "id": "WLWJQSREnZg3"
      }
    },
    {
      "cell_type": "markdown",
      "source": [
        "# IMPORTACION DE LIBRERIAS"
      ],
      "metadata": {
        "id": "DPGRjc1Ppf4f"
      }
    },
    {
      "cell_type": "code",
      "execution_count": 15,
      "metadata": {
        "id": "aNHXESJwajYW"
      },
      "outputs": [],
      "source": [
        "# utilizado para manejos de directorios y rutas\n",
        "import os\n",
        "\n",
        "# Computacion vectorial y cientifica para python\n",
        "import numpy as np\n",
        "\n",
        "import pandas as pd\n",
        "\n",
        "# Librerias para graficación (trazado de gráficos)\n",
        "from matplotlib import pyplot as plt\n",
        "from scipy import optimize\n",
        "from mpl_toolkits.mplot3d import Axes3D  # Necesario para graficar superficies 3D\n",
        "from sklearn.metrics import classification_report, confusion_matrix\n",
        "\n",
        "# llama a matplotlib a embeber graficas dentro de los cuadernillos\n",
        "%matplotlib inline"
      ]
    },
    {
      "cell_type": "markdown",
      "source": [
        "# **Montar el Drive en el Cuadernillo**"
      ],
      "metadata": {
        "id": "hjxP7eNTptqH"
      }
    },
    {
      "cell_type": "code",
      "source": [
        "from google.colab import drive\n",
        "drive.mount('/content/drive')"
      ],
      "metadata": {
        "colab": {
          "base_uri": "https://localhost:8080/",
          "height": 304
        },
        "id": "63Sq6zcZJsUr",
        "outputId": "077c7ec9-32cd-40c7-9972-91194009006a",
        "collapsed": true
      },
      "execution_count": 3,
      "outputs": [
        {
          "output_type": "error",
          "ename": "MessageError",
          "evalue": "Error: credential propagation was unsuccessful",
          "traceback": [
            "\u001b[0;31m---------------------------------------------------------------------------\u001b[0m",
            "\u001b[0;31mMessageError\u001b[0m                              Traceback (most recent call last)",
            "\u001b[0;32m/tmp/ipython-input-1408506528.py\u001b[0m in \u001b[0;36m<cell line: 0>\u001b[0;34m()\u001b[0m\n\u001b[1;32m      1\u001b[0m \u001b[0;32mfrom\u001b[0m \u001b[0mgoogle\u001b[0m\u001b[0;34m.\u001b[0m\u001b[0mcolab\u001b[0m \u001b[0;32mimport\u001b[0m \u001b[0mdrive\u001b[0m\u001b[0;34m\u001b[0m\u001b[0;34m\u001b[0m\u001b[0m\n\u001b[0;32m----> 2\u001b[0;31m \u001b[0mdrive\u001b[0m\u001b[0;34m.\u001b[0m\u001b[0mmount\u001b[0m\u001b[0;34m(\u001b[0m\u001b[0;34m'/content/drive'\u001b[0m\u001b[0;34m)\u001b[0m\u001b[0;34m\u001b[0m\u001b[0;34m\u001b[0m\u001b[0m\n\u001b[0m",
            "\u001b[0;32m/usr/local/lib/python3.12/dist-packages/google/colab/drive.py\u001b[0m in \u001b[0;36mmount\u001b[0;34m(mountpoint, force_remount, timeout_ms, readonly)\u001b[0m\n\u001b[1;32m     95\u001b[0m \u001b[0;32mdef\u001b[0m \u001b[0mmount\u001b[0m\u001b[0;34m(\u001b[0m\u001b[0mmountpoint\u001b[0m\u001b[0;34m,\u001b[0m \u001b[0mforce_remount\u001b[0m\u001b[0;34m=\u001b[0m\u001b[0;32mFalse\u001b[0m\u001b[0;34m,\u001b[0m \u001b[0mtimeout_ms\u001b[0m\u001b[0;34m=\u001b[0m\u001b[0;36m120000\u001b[0m\u001b[0;34m,\u001b[0m \u001b[0mreadonly\u001b[0m\u001b[0;34m=\u001b[0m\u001b[0;32mFalse\u001b[0m\u001b[0;34m)\u001b[0m\u001b[0;34m:\u001b[0m\u001b[0;34m\u001b[0m\u001b[0;34m\u001b[0m\u001b[0m\n\u001b[1;32m     96\u001b[0m   \u001b[0;34m\"\"\"Mount your Google Drive at the specified mountpoint path.\"\"\"\u001b[0m\u001b[0;34m\u001b[0m\u001b[0;34m\u001b[0m\u001b[0m\n\u001b[0;32m---> 97\u001b[0;31m   return _mount(\n\u001b[0m\u001b[1;32m     98\u001b[0m       \u001b[0mmountpoint\u001b[0m\u001b[0;34m,\u001b[0m\u001b[0;34m\u001b[0m\u001b[0;34m\u001b[0m\u001b[0m\n\u001b[1;32m     99\u001b[0m       \u001b[0mforce_remount\u001b[0m\u001b[0;34m=\u001b[0m\u001b[0mforce_remount\u001b[0m\u001b[0;34m,\u001b[0m\u001b[0;34m\u001b[0m\u001b[0;34m\u001b[0m\u001b[0m\n",
            "\u001b[0;32m/usr/local/lib/python3.12/dist-packages/google/colab/drive.py\u001b[0m in \u001b[0;36m_mount\u001b[0;34m(mountpoint, force_remount, timeout_ms, ephemeral, readonly)\u001b[0m\n\u001b[1;32m    132\u001b[0m   )\n\u001b[1;32m    133\u001b[0m   \u001b[0;32mif\u001b[0m \u001b[0mephemeral\u001b[0m\u001b[0;34m:\u001b[0m\u001b[0;34m\u001b[0m\u001b[0;34m\u001b[0m\u001b[0m\n\u001b[0;32m--> 134\u001b[0;31m     _message.blocking_request(\n\u001b[0m\u001b[1;32m    135\u001b[0m         \u001b[0;34m'request_auth'\u001b[0m\u001b[0;34m,\u001b[0m\u001b[0;34m\u001b[0m\u001b[0;34m\u001b[0m\u001b[0m\n\u001b[1;32m    136\u001b[0m         \u001b[0mrequest\u001b[0m\u001b[0;34m=\u001b[0m\u001b[0;34m{\u001b[0m\u001b[0;34m'authType'\u001b[0m\u001b[0;34m:\u001b[0m \u001b[0;34m'dfs_ephemeral'\u001b[0m\u001b[0;34m}\u001b[0m\u001b[0;34m,\u001b[0m\u001b[0;34m\u001b[0m\u001b[0;34m\u001b[0m\u001b[0m\n",
            "\u001b[0;32m/usr/local/lib/python3.12/dist-packages/google/colab/_message.py\u001b[0m in \u001b[0;36mblocking_request\u001b[0;34m(request_type, request, timeout_sec, parent)\u001b[0m\n\u001b[1;32m    174\u001b[0m       \u001b[0mrequest_type\u001b[0m\u001b[0;34m,\u001b[0m \u001b[0mrequest\u001b[0m\u001b[0;34m,\u001b[0m \u001b[0mparent\u001b[0m\u001b[0;34m=\u001b[0m\u001b[0mparent\u001b[0m\u001b[0;34m,\u001b[0m \u001b[0mexpect_reply\u001b[0m\u001b[0;34m=\u001b[0m\u001b[0;32mTrue\u001b[0m\u001b[0;34m\u001b[0m\u001b[0;34m\u001b[0m\u001b[0m\n\u001b[1;32m    175\u001b[0m   )\n\u001b[0;32m--> 176\u001b[0;31m   \u001b[0;32mreturn\u001b[0m \u001b[0mread_reply_from_input\u001b[0m\u001b[0;34m(\u001b[0m\u001b[0mrequest_id\u001b[0m\u001b[0;34m,\u001b[0m \u001b[0mtimeout_sec\u001b[0m\u001b[0;34m)\u001b[0m\u001b[0;34m\u001b[0m\u001b[0;34m\u001b[0m\u001b[0m\n\u001b[0m",
            "\u001b[0;32m/usr/local/lib/python3.12/dist-packages/google/colab/_message.py\u001b[0m in \u001b[0;36mread_reply_from_input\u001b[0;34m(message_id, timeout_sec)\u001b[0m\n\u001b[1;32m    101\u001b[0m     ):\n\u001b[1;32m    102\u001b[0m       \u001b[0;32mif\u001b[0m \u001b[0;34m'error'\u001b[0m \u001b[0;32min\u001b[0m \u001b[0mreply\u001b[0m\u001b[0;34m:\u001b[0m\u001b[0;34m\u001b[0m\u001b[0;34m\u001b[0m\u001b[0m\n\u001b[0;32m--> 103\u001b[0;31m         \u001b[0;32mraise\u001b[0m \u001b[0mMessageError\u001b[0m\u001b[0;34m(\u001b[0m\u001b[0mreply\u001b[0m\u001b[0;34m[\u001b[0m\u001b[0;34m'error'\u001b[0m\u001b[0;34m]\u001b[0m\u001b[0;34m)\u001b[0m\u001b[0;34m\u001b[0m\u001b[0;34m\u001b[0m\u001b[0m\n\u001b[0m\u001b[1;32m    104\u001b[0m       \u001b[0;32mreturn\u001b[0m \u001b[0mreply\u001b[0m\u001b[0;34m.\u001b[0m\u001b[0mget\u001b[0m\u001b[0;34m(\u001b[0m\u001b[0;34m'data'\u001b[0m\u001b[0;34m,\u001b[0m \u001b[0;32mNone\u001b[0m\u001b[0;34m)\u001b[0m\u001b[0;34m\u001b[0m\u001b[0;34m\u001b[0m\u001b[0m\n\u001b[1;32m    105\u001b[0m \u001b[0;34m\u001b[0m\u001b[0m\n",
            "\u001b[0;31mMessageError\u001b[0m: Error: credential propagation was unsuccessful"
          ]
        }
      ]
    },
    {
      "cell_type": "markdown",
      "source": [
        "# **Leer el dataset**"
      ],
      "metadata": {
        "id": "w54WYSQcpyCn"
      }
    },
    {
      "cell_type": "code",
      "execution_count": 4,
      "metadata": {
        "id": "rEpvKQOhSd25",
        "colab": {
          "base_uri": "https://localhost:8080/",
          "height": 424
        },
        "outputId": "9b8822a1-e026-4add-d534-88acc6b5deca"
      },
      "outputs": [
        {
          "output_type": "execute_result",
          "data": {
            "text/plain": [
              "        total_fare_new fare_class\n",
              "0                42.24      Media\n",
              "1                53.12       Alta\n",
              "2                39.03      Media\n",
              "3                25.66       Baja\n",
              "4                33.34      Media\n",
              "...                ...        ...\n",
              "207591           79.33       Alta\n",
              "207592           54.19       Alta\n",
              "207593           16.88       Baja\n",
              "207594           22.82       Baja\n",
              "207595           81.36       Alta\n",
              "\n",
              "[207596 rows x 2 columns]"
            ],
            "text/html": [
              "\n",
              "  <div id=\"df-35395d50-1563-4d87-a562-d0096fd2f5b6\" class=\"colab-df-container\">\n",
              "    <div>\n",
              "<style scoped>\n",
              "    .dataframe tbody tr th:only-of-type {\n",
              "        vertical-align: middle;\n",
              "    }\n",
              "\n",
              "    .dataframe tbody tr th {\n",
              "        vertical-align: top;\n",
              "    }\n",
              "\n",
              "    .dataframe thead th {\n",
              "        text-align: right;\n",
              "    }\n",
              "</style>\n",
              "<table border=\"1\" class=\"dataframe\">\n",
              "  <thead>\n",
              "    <tr style=\"text-align: right;\">\n",
              "      <th></th>\n",
              "      <th>total_fare_new</th>\n",
              "      <th>fare_class</th>\n",
              "    </tr>\n",
              "  </thead>\n",
              "  <tbody>\n",
              "    <tr>\n",
              "      <th>0</th>\n",
              "      <td>42.24</td>\n",
              "      <td>Media</td>\n",
              "    </tr>\n",
              "    <tr>\n",
              "      <th>1</th>\n",
              "      <td>53.12</td>\n",
              "      <td>Alta</td>\n",
              "    </tr>\n",
              "    <tr>\n",
              "      <th>2</th>\n",
              "      <td>39.03</td>\n",
              "      <td>Media</td>\n",
              "    </tr>\n",
              "    <tr>\n",
              "      <th>3</th>\n",
              "      <td>25.66</td>\n",
              "      <td>Baja</td>\n",
              "    </tr>\n",
              "    <tr>\n",
              "      <th>4</th>\n",
              "      <td>33.34</td>\n",
              "      <td>Media</td>\n",
              "    </tr>\n",
              "    <tr>\n",
              "      <th>...</th>\n",
              "      <td>...</td>\n",
              "      <td>...</td>\n",
              "    </tr>\n",
              "    <tr>\n",
              "      <th>207591</th>\n",
              "      <td>79.33</td>\n",
              "      <td>Alta</td>\n",
              "    </tr>\n",
              "    <tr>\n",
              "      <th>207592</th>\n",
              "      <td>54.19</td>\n",
              "      <td>Alta</td>\n",
              "    </tr>\n",
              "    <tr>\n",
              "      <th>207593</th>\n",
              "      <td>16.88</td>\n",
              "      <td>Baja</td>\n",
              "    </tr>\n",
              "    <tr>\n",
              "      <th>207594</th>\n",
              "      <td>22.82</td>\n",
              "      <td>Baja</td>\n",
              "    </tr>\n",
              "    <tr>\n",
              "      <th>207595</th>\n",
              "      <td>81.36</td>\n",
              "      <td>Alta</td>\n",
              "    </tr>\n",
              "  </tbody>\n",
              "</table>\n",
              "<p>207596 rows × 2 columns</p>\n",
              "</div>\n",
              "    <div class=\"colab-df-buttons\">\n",
              "\n",
              "  <div class=\"colab-df-container\">\n",
              "    <button class=\"colab-df-convert\" onclick=\"convertToInteractive('df-35395d50-1563-4d87-a562-d0096fd2f5b6')\"\n",
              "            title=\"Convert this dataframe to an interactive table.\"\n",
              "            style=\"display:none;\">\n",
              "\n",
              "  <svg xmlns=\"http://www.w3.org/2000/svg\" height=\"24px\" viewBox=\"0 -960 960 960\">\n",
              "    <path d=\"M120-120v-720h720v720H120Zm60-500h600v-160H180v160Zm220 220h160v-160H400v160Zm0 220h160v-160H400v160ZM180-400h160v-160H180v160Zm440 0h160v-160H620v160ZM180-180h160v-160H180v160Zm440 0h160v-160H620v160Z\"/>\n",
              "  </svg>\n",
              "    </button>\n",
              "\n",
              "  <style>\n",
              "    .colab-df-container {\n",
              "      display:flex;\n",
              "      gap: 12px;\n",
              "    }\n",
              "\n",
              "    .colab-df-convert {\n",
              "      background-color: #E8F0FE;\n",
              "      border: none;\n",
              "      border-radius: 50%;\n",
              "      cursor: pointer;\n",
              "      display: none;\n",
              "      fill: #1967D2;\n",
              "      height: 32px;\n",
              "      padding: 0 0 0 0;\n",
              "      width: 32px;\n",
              "    }\n",
              "\n",
              "    .colab-df-convert:hover {\n",
              "      background-color: #E2EBFA;\n",
              "      box-shadow: 0px 1px 2px rgba(60, 64, 67, 0.3), 0px 1px 3px 1px rgba(60, 64, 67, 0.15);\n",
              "      fill: #174EA6;\n",
              "    }\n",
              "\n",
              "    .colab-df-buttons div {\n",
              "      margin-bottom: 4px;\n",
              "    }\n",
              "\n",
              "    [theme=dark] .colab-df-convert {\n",
              "      background-color: #3B4455;\n",
              "      fill: #D2E3FC;\n",
              "    }\n",
              "\n",
              "    [theme=dark] .colab-df-convert:hover {\n",
              "      background-color: #434B5C;\n",
              "      box-shadow: 0px 1px 3px 1px rgba(0, 0, 0, 0.15);\n",
              "      filter: drop-shadow(0px 1px 2px rgba(0, 0, 0, 0.3));\n",
              "      fill: #FFFFFF;\n",
              "    }\n",
              "  </style>\n",
              "\n",
              "    <script>\n",
              "      const buttonEl =\n",
              "        document.querySelector('#df-35395d50-1563-4d87-a562-d0096fd2f5b6 button.colab-df-convert');\n",
              "      buttonEl.style.display =\n",
              "        google.colab.kernel.accessAllowed ? 'block' : 'none';\n",
              "\n",
              "      async function convertToInteractive(key) {\n",
              "        const element = document.querySelector('#df-35395d50-1563-4d87-a562-d0096fd2f5b6');\n",
              "        const dataTable =\n",
              "          await google.colab.kernel.invokeFunction('convertToInteractive',\n",
              "                                                    [key], {});\n",
              "        if (!dataTable) return;\n",
              "\n",
              "        const docLinkHtml = 'Like what you see? Visit the ' +\n",
              "          '<a target=\"_blank\" href=https://colab.research.google.com/notebooks/data_table.ipynb>data table notebook</a>'\n",
              "          + ' to learn more about interactive tables.';\n",
              "        element.innerHTML = '';\n",
              "        dataTable['output_type'] = 'display_data';\n",
              "        await google.colab.output.renderOutput(dataTable, element);\n",
              "        const docLink = document.createElement('div');\n",
              "        docLink.innerHTML = docLinkHtml;\n",
              "        element.appendChild(docLink);\n",
              "      }\n",
              "    </script>\n",
              "  </div>\n",
              "\n",
              "\n",
              "    <div id=\"df-0bd32d0f-c2f0-42ea-9a36-bfdf4aad66b7\">\n",
              "      <button class=\"colab-df-quickchart\" onclick=\"quickchart('df-0bd32d0f-c2f0-42ea-9a36-bfdf4aad66b7')\"\n",
              "                title=\"Suggest charts\"\n",
              "                style=\"display:none;\">\n",
              "\n",
              "<svg xmlns=\"http://www.w3.org/2000/svg\" height=\"24px\"viewBox=\"0 0 24 24\"\n",
              "     width=\"24px\">\n",
              "    <g>\n",
              "        <path d=\"M19 3H5c-1.1 0-2 .9-2 2v14c0 1.1.9 2 2 2h14c1.1 0 2-.9 2-2V5c0-1.1-.9-2-2-2zM9 17H7v-7h2v7zm4 0h-2V7h2v10zm4 0h-2v-4h2v4z\"/>\n",
              "    </g>\n",
              "</svg>\n",
              "      </button>\n",
              "\n",
              "<style>\n",
              "  .colab-df-quickchart {\n",
              "      --bg-color: #E8F0FE;\n",
              "      --fill-color: #1967D2;\n",
              "      --hover-bg-color: #E2EBFA;\n",
              "      --hover-fill-color: #174EA6;\n",
              "      --disabled-fill-color: #AAA;\n",
              "      --disabled-bg-color: #DDD;\n",
              "  }\n",
              "\n",
              "  [theme=dark] .colab-df-quickchart {\n",
              "      --bg-color: #3B4455;\n",
              "      --fill-color: #D2E3FC;\n",
              "      --hover-bg-color: #434B5C;\n",
              "      --hover-fill-color: #FFFFFF;\n",
              "      --disabled-bg-color: #3B4455;\n",
              "      --disabled-fill-color: #666;\n",
              "  }\n",
              "\n",
              "  .colab-df-quickchart {\n",
              "    background-color: var(--bg-color);\n",
              "    border: none;\n",
              "    border-radius: 50%;\n",
              "    cursor: pointer;\n",
              "    display: none;\n",
              "    fill: var(--fill-color);\n",
              "    height: 32px;\n",
              "    padding: 0;\n",
              "    width: 32px;\n",
              "  }\n",
              "\n",
              "  .colab-df-quickchart:hover {\n",
              "    background-color: var(--hover-bg-color);\n",
              "    box-shadow: 0 1px 2px rgba(60, 64, 67, 0.3), 0 1px 3px 1px rgba(60, 64, 67, 0.15);\n",
              "    fill: var(--button-hover-fill-color);\n",
              "  }\n",
              "\n",
              "  .colab-df-quickchart-complete:disabled,\n",
              "  .colab-df-quickchart-complete:disabled:hover {\n",
              "    background-color: var(--disabled-bg-color);\n",
              "    fill: var(--disabled-fill-color);\n",
              "    box-shadow: none;\n",
              "  }\n",
              "\n",
              "  .colab-df-spinner {\n",
              "    border: 2px solid var(--fill-color);\n",
              "    border-color: transparent;\n",
              "    border-bottom-color: var(--fill-color);\n",
              "    animation:\n",
              "      spin 1s steps(1) infinite;\n",
              "  }\n",
              "\n",
              "  @keyframes spin {\n",
              "    0% {\n",
              "      border-color: transparent;\n",
              "      border-bottom-color: var(--fill-color);\n",
              "      border-left-color: var(--fill-color);\n",
              "    }\n",
              "    20% {\n",
              "      border-color: transparent;\n",
              "      border-left-color: var(--fill-color);\n",
              "      border-top-color: var(--fill-color);\n",
              "    }\n",
              "    30% {\n",
              "      border-color: transparent;\n",
              "      border-left-color: var(--fill-color);\n",
              "      border-top-color: var(--fill-color);\n",
              "      border-right-color: var(--fill-color);\n",
              "    }\n",
              "    40% {\n",
              "      border-color: transparent;\n",
              "      border-right-color: var(--fill-color);\n",
              "      border-top-color: var(--fill-color);\n",
              "    }\n",
              "    60% {\n",
              "      border-color: transparent;\n",
              "      border-right-color: var(--fill-color);\n",
              "    }\n",
              "    80% {\n",
              "      border-color: transparent;\n",
              "      border-right-color: var(--fill-color);\n",
              "      border-bottom-color: var(--fill-color);\n",
              "    }\n",
              "    90% {\n",
              "      border-color: transparent;\n",
              "      border-bottom-color: var(--fill-color);\n",
              "    }\n",
              "  }\n",
              "</style>\n",
              "\n",
              "      <script>\n",
              "        async function quickchart(key) {\n",
              "          const quickchartButtonEl =\n",
              "            document.querySelector('#' + key + ' button');\n",
              "          quickchartButtonEl.disabled = true;  // To prevent multiple clicks.\n",
              "          quickchartButtonEl.classList.add('colab-df-spinner');\n",
              "          try {\n",
              "            const charts = await google.colab.kernel.invokeFunction(\n",
              "                'suggestCharts', [key], {});\n",
              "          } catch (error) {\n",
              "            console.error('Error during call to suggestCharts:', error);\n",
              "          }\n",
              "          quickchartButtonEl.classList.remove('colab-df-spinner');\n",
              "          quickchartButtonEl.classList.add('colab-df-quickchart-complete');\n",
              "        }\n",
              "        (() => {\n",
              "          let quickchartButtonEl =\n",
              "            document.querySelector('#df-0bd32d0f-c2f0-42ea-9a36-bfdf4aad66b7 button');\n",
              "          quickchartButtonEl.style.display =\n",
              "            google.colab.kernel.accessAllowed ? 'block' : 'none';\n",
              "        })();\n",
              "      </script>\n",
              "    </div>\n",
              "\n",
              "    </div>\n",
              "  </div>\n"
            ],
            "application/vnd.google.colaboratory.intrinsic+json": {
              "type": "dataframe"
            }
          },
          "metadata": {},
          "execution_count": 4
        }
      ],
      "source": [
        "# Leer datos separados por una coma\n",
        "# data = np.loadtxt('ex1data1.txt', delimiter=',')\n",
        "# data = np.loadtxt(os.path.join('data', 'ex1data1.txt'), delimiter=',')\n",
        "df = pd.read_csv('/content/drive/MyDrive/Datasets/Taxi_Set.csv')\n",
        "#df = pd.read_csv('Taxi_Set.csv')\n",
        "\n",
        "# Incorporacion al Dataset la nueva columna fare_class en base a total_fare_new con los siguientes rangos\n",
        "# Bajo → viajes de $3.16 a $25.89\n",
        "# Medio → viajes de $25.90 a $48.61\n",
        "# Alto → viajes de $48.62 a $2539.32\n",
        "df['fare_class'] = pd.qcut(df['total_fare_new'], q=3, labels=[\"Baja\", \"Media\", \"Alta\"])\n",
        "\n",
        "# Mostrar 'total_fare_new' y  'fare_class'\n",
        "df[['total_fare_new', 'fare_class']]"
      ]
    },
    {
      "cell_type": "code",
      "source": [
        "df['fare_class_code'] = pd.Categorical(df['fare_class'], categories=[\"Baja\", \"Media\", \"Alta\"]).codes\n",
        "y_all = df['fare_class_code'].values\n",
        "\n",
        "features = [\n",
        "    'trip_duration_sec', 'trip_duration_min', 'trip_duration_hr',\n",
        "    'distance_traveled_Km', 'KPH', 'wait_time_cost', 'distance_cost',\n",
        "    'fare_w_flag', 'tip', 'miscellaneous_fees', 'num_of_passengers', 'surge_applied'\n",
        "]\n",
        "\n",
        "X_all = df[features].copy()"
      ],
      "metadata": {
        "id": "NQd-yvIrlisp"
      },
      "execution_count": 5,
      "outputs": []
    },
    {
      "cell_type": "code",
      "source": [
        "# --- 4) LIMPIEZA / CONVERSIÓN DE FLAGS A NUMÉRICO ---\n",
        "def bool_to_int_series(s):\n",
        "    # maneja True/False booleanos y strings 'TRUE'/'FALSE' u otras variantes\n",
        "    if s.dtype == 'bool' or s.dtype == np.bool_:\n",
        "        return s.astype(int)\n",
        "    # si ya es numérico\n",
        "    if np.issubdtype(s.dtype, np.number):\n",
        "        return s.fillna(0).astype(int)\n",
        "    # normalizar strings\n",
        "    s2 = s.astype(str).str.strip().str.upper()\n",
        "    return s2.map({'TRUE':1,'FALSE':0,'1':1,'0':0, 'YES':1, 'NO':0}).fillna(0).astype(int)\n",
        "\n",
        "# aplicar para las columnas binarias\n",
        "X_all['surge_applied'] = bool_to_int_series(X_all['surge_applied'])"
      ],
      "metadata": {
        "id": "ka1nwldxnkqq"
      },
      "execution_count": 6,
      "outputs": []
    },
    {
      "cell_type": "code",
      "source": [
        "# rellenar NA numéricos si hay\n",
        "X_all = X_all.fillna(0)\n",
        "\n",
        "# convertir a numpy\n",
        "X_all = X_all.values.astype(float)\n",
        "y_all = y_all.astype(int)\n",
        "\n",
        "m_all = X_all.shape[0]\n",
        "print(f\"Ejemplos totales: {m_all}, features: {X_all.shape[1]}\")"
      ],
      "metadata": {
        "colab": {
          "base_uri": "https://localhost:8080/"
        },
        "id": "ye1zQ9HHnuGg",
        "outputId": "a65d969f-ce4f-4a8f-ac8b-5c4d16b13609"
      },
      "execution_count": 7,
      "outputs": [
        {
          "output_type": "stream",
          "name": "stdout",
          "text": [
            "Ejemplos totales: 207596, features: 12\n"
          ]
        }
      ]
    },
    {
      "cell_type": "code",
      "source": [
        "# --- 5) DIVIDIR EN ENTRENAMIENTO / PRUEBA (80% / 20%) ---\n",
        "perm = np.random.permutation(m_all)\n",
        "cut = int(0.8 * m_all)\n",
        "train_idx = perm[:cut]\n",
        "test_idx = perm[cut:]\n",
        "\n",
        "X_train = X_all[train_idx, :]\n",
        "y_train = y_all[train_idx]\n",
        "X_test  = X_all[test_idx, :]\n",
        "y_test  = y_all[test_idx]\n",
        "\n",
        "print(f\"Train: {X_train.shape[0]} ejemplos, Test: {X_test.shape[0]} ejemplos\")"
      ],
      "metadata": {
        "colab": {
          "base_uri": "https://localhost:8080/"
        },
        "id": "RWmB-7Cin86Z",
        "outputId": "0288fd31-a0bd-42b1-8845-e5393d7b249e"
      },
      "execution_count": 8,
      "outputs": [
        {
          "output_type": "stream",
          "name": "stdout",
          "text": [
            "Train: 166076 ejemplos, Test: 41520 ejemplos\n"
          ]
        }
      ]
    },
    {
      "cell_type": "code",
      "source": [
        "# --- 6) NORMALIZACIÓN (usando parámetros del conjunto de entrenamiento) ---\n",
        "mu = X_train.mean(axis=0)\n",
        "sigma = X_train.std(axis=0)\n",
        "# evitar división por cero\n",
        "sigma[sigma == 0] = 1.0\n",
        "\n",
        "X_train_norm = (X_train - mu) / sigma\n",
        "X_test_norm  = (X_test - mu) / sigma"
      ],
      "metadata": {
        "id": "k5L_izmtn_mo"
      },
      "execution_count": 9,
      "outputs": []
    },
    {
      "cell_type": "code",
      "source": [
        "# --- 7) FUNCIONES DE REGRESIÓN LOGÍSTICA (mismo estilo que tu ejemplo) ---\n",
        "def sigmoid(z):\n",
        "    return 1.0 / (1.0 + np.exp(-z))\n",
        "\n",
        "def lrCostFunction(theta, X, y, lambda_):\n",
        "    \"\"\"\n",
        "    theta: (n+1,)  (vector)\n",
        "    X:     (m, n+1)  (ya con columna de 1s si corresponde)\n",
        "    y:     (m,) boolean / 0-1\n",
        "    lambda_: regularización\n",
        "    Devuelve J, grad\n",
        "    \"\"\"\n",
        "    m = y.size\n",
        "    if y.dtype == bool:\n",
        "        y = y.astype(int)\n",
        "\n",
        "    h = sigmoid(X.dot(theta))\n",
        "    # evitar log(0)\n",
        "    eps = 1e-12\n",
        "    J = (1.0 / m) * ( - y.dot(np.log(h + eps)) - (1 - y).dot(np.log(1 - h + eps)) )\n",
        "\n",
        "    temp = theta.copy()\n",
        "    temp[0] = 0.0  # no regularizar theta0\n",
        "    J = J + (lambda_ / (2.0 * m)) * np.sum(temp**2)\n",
        "\n",
        "    grad = (1.0 / m) * (X.T.dot(h - y))\n",
        "    grad = grad + (lambda_ / m) * temp\n",
        "    return J, grad\n",
        "\n",
        "def oneVsAll(X, y, num_labels, lambda_, maxiter=50):\n",
        "    \"\"\"\n",
        "    Entrena num_labels clasificadores (one-vs-all).\n",
        "    Devuelve all_theta (K x n+1) y histories (lista con historiales de costo por clase).\n",
        "    \"\"\"\n",
        "    m, n = X.shape\n",
        "    all_theta = np.zeros((num_labels, n + 1))\n",
        "    histories = []\n",
        "\n",
        "    # agregar columna de 1s\n",
        "    X_with_bias = np.concatenate([np.ones((m, 1)), X], axis=1)\n",
        "\n",
        "    for c in range(num_labels):\n",
        "        initial_theta = np.zeros(n + 1)\n",
        "        history = []\n",
        "\n",
        "        # wrapper para guardar histórico:\n",
        "        def cost_and_grad(th, X_arg, y_arg, lambda_arg):\n",
        "            J, g = lrCostFunction(th, X_arg, y_arg, lambda_arg)\n",
        "            history.append(J)\n",
        "            return J, g\n",
        "\n",
        "        options = {'maxiter': maxiter}\n",
        "        res = optimize.minimize(fun=cost_and_grad,\n",
        "                                x0=initial_theta,\n",
        "                                args=(X_with_bias, (y == c).astype(int), lambda_),\n",
        "                                jac=True,\n",
        "                                method='CG',\n",
        "                                options=options)\n",
        "\n",
        "        all_theta[c, :] = res.x\n",
        "        histories.append(np.array(history))\n",
        "        print(f\"Clase {c}: exit status {res.success}, iter {len(history)}, final J {history[-1] if len(history)>0 else None}\")\n",
        "\n",
        "    return all_theta, histories\n",
        "\n",
        "def predictOneVsAll(all_theta, X):\n",
        "    m = X.shape[0]\n",
        "    X_with_bias = np.concatenate([np.ones((m, 1)), X], axis=1)\n",
        "    probs = sigmoid(X_with_bias.dot(all_theta.T))  # (m, K)\n",
        "    p = np.argmax(probs, axis=1)\n",
        "    return p"
      ],
      "metadata": {
        "id": "j4bWQJV6oFh3"
      },
      "execution_count": 10,
      "outputs": []
    },
    {
      "cell_type": "code",
      "source": [
        "# --- 8) ENTRENAMIENTO ---\n",
        "num_labels = 3  # Baja, Media, Alta\n",
        "lambda_ = 0.1\n",
        "maxiter = 100  # aumenta si quieres mejor convergencia\n",
        "\n",
        "all_theta, histories = oneVsAll(X_train_norm, y_train, num_labels, lambda_, maxiter=maxiter)\n",
        "\n",
        "# --- 9) PREDICCIONES Y MÉTRICAS ---\n",
        "pred_train = predictOneVsAll(all_theta, X_train_norm)\n",
        "pred_test  = predictOneVsAll(all_theta, X_test_norm)\n",
        "\n",
        "acc_train = np.mean(pred_train == y_train) * 100\n",
        "acc_test  = np.mean(pred_test  == y_test)  * 100\n",
        "\n",
        "print(f\"Precisión (train): {acc_train:.2f}%\")\n",
        "print(f\"Precisión (test) : {acc_test:.2f}%\")\n",
        "\n",
        "print(\"\\nReporte clasificación (test):\")\n",
        "print(classification_report(y_test, pred_test, target_names=[\"Baja\",\"Media\",\"Alta\"]))\n",
        "\n",
        "print(\"Matriz de confusión (test):\")\n",
        "print(confusion_matrix(y_test, pred_test))"
      ],
      "metadata": {
        "colab": {
          "base_uri": "https://localhost:8080/"
        },
        "id": "gNRG49HUoKcI",
        "outputId": "7811fb01-044c-4de2-8ef1-64ffec507e6c"
      },
      "execution_count": 11,
      "outputs": [
        {
          "output_type": "stream",
          "name": "stderr",
          "text": [
            "/tmp/ipython-input-1317079299.py:3: RuntimeWarning: overflow encountered in exp\n",
            "  return 1.0 / (1.0 + np.exp(-z))\n"
          ]
        },
        {
          "output_type": "stream",
          "name": "stdout",
          "text": [
            "Clase 0: exit status False, iter 492, final J 0.010451444017228667\n",
            "Clase 1: exit status True, iter 44, final J 0.6057499684090458\n",
            "Clase 2: exit status False, iter 461, final J 0.006718676413568359\n",
            "Precisión (train): 99.55%\n",
            "Precisión (test) : 99.50%\n",
            "\n",
            "Reporte clasificación (test):\n",
            "              precision    recall  f1-score   support\n",
            "\n",
            "        Baja       0.99      1.00      1.00     13873\n",
            "       Media       1.00      0.99      0.99     13908\n",
            "        Alta       0.99      1.00      1.00     13739\n",
            "\n",
            "    accuracy                           0.99     41520\n",
            "   macro avg       1.00      1.00      0.99     41520\n",
            "weighted avg       1.00      0.99      0.99     41520\n",
            "\n",
            "Matriz de confusión (test):\n",
            "[[13873     0     0]\n",
            " [   76 13700   132]\n",
            " [    0     0 13739]]\n"
          ]
        }
      ]
    },
    {
      "cell_type": "code",
      "source": [
        "# --- 10) GRAFICOS ---\n",
        "# a) Costo por iteración (cada clase)\n",
        "plt.figure(figsize=(10,6))\n",
        "maxlen = max(len(h) for h in histories)\n",
        "for i, h in enumerate(histories):\n",
        "    # hacer x: número de llamadas (itera)\n",
        "    x = np.arange(1, len(h)+1)\n",
        "    plt.plot(x, h, label=f'Clase {i} ({[\"Baja\",\"Media\",\"Alta\"][i]})')\n",
        "plt.xlabel('Llamadas a la función de costo (iteraciones internas del optimizador)')\n",
        "plt.ylabel('Costo J')\n",
        "plt.title('Convergencia del costo por clase (One-vs-All)')\n",
        "plt.legend()\n",
        "plt.grid(True)\n",
        "plt.show()\n",
        "\n",
        "# b) Precisión train vs test\n",
        "plt.figure(figsize=(6,4))\n",
        "plt.bar(['Train','Test'], [acc_train, acc_test])\n",
        "plt.ylim(0, 100)\n",
        "plt.ylabel('Precisión (%)')\n",
        "plt.title('Precisión del modelo')\n",
        "for i, v in enumerate([acc_train, acc_test]):\n",
        "    plt.text(i, v + 1, f\"{v:.2f}%\", ha='center')\n",
        "plt.show()\n",
        "\n",
        "# --- 11) EJEMPLO: mostrar predicciones para algunos ejemplos de test ---\n",
        "n_show = min(12, X_test_norm.shape[0])\n",
        "print(\"Ejemplos de test (primeros {}) -> pred / real\".format(n_show))\n",
        "for i in range(n_show):\n",
        "    print(f\"{i:2d}: pred={['Baja','Media','Alta'][pred_test[i]]} \\t real={['Baja','Media','Alta'][y_test[i]]}\")\n"
      ],
      "metadata": {
        "colab": {
          "base_uri": "https://localhost:8080/",
          "height": 1000
        },
        "id": "YwnRuqNtoQRa",
        "outputId": "b7c1dc31-0a9d-4131-fe19-d576e19f9ea2"
      },
      "execution_count": 12,
      "outputs": [
        {
          "output_type": "display_data",
          "data": {
            "text/plain": [
              "<Figure size 1000x600 with 1 Axes>"
            ],
            "image/png": "[encoded data removed]"
          },
          "metadata": {}
        },
        {
          "output_type": "display_data",
          "data": {
            "text/plain": [
              "<Figure size 600x400 with 1 Axes>"
            ],
            "image/png": "[encoded data removed]"
          },
          "metadata": {}
        },
        {
          "output_type": "stream",
          "name": "stdout",
          "text": [
            "Ejemplos de test (primeros 12) -> pred / real\n",
            " 0: pred=Media \t real=Media\n",
            " 1: pred=Media \t real=Media\n",
            " 2: pred=Alta \t real=Alta\n",
            " 3: pred=Media \t real=Media\n",
            " 4: pred=Media \t real=Media\n",
            " 5: pred=Media \t real=Media\n",
            " 6: pred=Baja \t real=Baja\n",
            " 7: pred=Media \t real=Media\n",
            " 8: pred=Baja \t real=Baja\n",
            " 9: pred=Baja \t real=Baja\n",
            "10: pred=Alta \t real=Alta\n",
            "11: pred=Alta \t real=Alta\n"
          ]
        }
      ]
    }
  ]
}